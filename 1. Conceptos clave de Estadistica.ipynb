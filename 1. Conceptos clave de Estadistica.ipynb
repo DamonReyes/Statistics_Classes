{
 "cells": [
  {
   "cell_type": "code",
   "execution_count": 9,
   "metadata": {},
   "outputs": [
    {
     "data": {
      "text/plain": [
       "6"
      ]
     },
     "execution_count": 9,
     "metadata": {},
     "output_type": "execute_result"
    }
   ],
   "source": [
    "# Distribución binomial, es una suma de n experimentos de bernoulli.\n",
    "sum(bernoulli.rvs(p=p_cara, size = 10))"
   ]
  },
  {
   "cell_type": "code",
   "execution_count": 10,
   "metadata": {},
   "outputs": [
    {
     "data": {
      "text/plain": [
       "array([6, 2, 5, 6, 5, 5, 6, 6, 3, 6, 4, 5, 4, 8, 2, 7, 5, 5, 1, 4, 4, 5,\n",
       "       7, 5, 4, 8, 4, 6, 3, 6, 4, 5, 7, 7, 5, 4, 5, 5, 6, 6, 7, 5, 7, 3,\n",
       "       4, 6, 5, 3, 4, 5, 6, 7, 6, 3, 5, 5, 4, 7, 5, 4, 6, 7, 6, 5, 6, 5,\n",
       "       5, 6, 8, 7, 3, 5, 4, 4, 4, 3, 6, 1, 6, 6, 2, 7, 9, 5, 6, 9, 5, 7,\n",
       "       1, 4, 4, 7, 7, 4, 6, 5, 6, 5, 7, 6])"
      ]
     },
     "execution_count": 10,
     "metadata": {},
     "output_type": "execute_result"
    }
   ],
   "source": [
    "# Se puede hacer con esto el binomial.\n",
    "from scipy.stats import binom\n",
    "# Generamos una muestra de la variable de Bernoulli.\n",
    "binom.rvs( p=p_cara, n = 10, size= 100)\n",
    "# Esto nos permite identificar la distribución de probabilidad. Algunos valores tienen más probabilidad de darse."
   ]
  },
  {
   "cell_type": "code",
   "execution_count": 14,
   "metadata": {},
   "outputs": [
    {
     "data": {
      "text/plain": [
       "5    0.23\n",
       "4    0.20\n",
       "6    0.16\n",
       "7    0.15\n",
       "3    0.13\n",
       "2    0.07\n",
       "8    0.03\n",
       "9    0.02\n",
       "1    0.01\n",
       "dtype: float64"
      ]
     },
     "execution_count": 14,
     "metadata": {},
     "output_type": "execute_result"
    }
   ],
   "source": [
    "# Importamos pandas para calcular esta serie como un data frame.\n",
    "# Value counts nos devuelve la frecuencia que más se repite. En este caso 5. Al dividir sobre /100 nos devuelve \n",
    "# una probabilidad de los casos totales evaluados.\n",
    "import pandas as pd\n",
    "pd.Series(binom.rvs( p=p_cara, n = 10, size= 100)).value_counts()/100\n"
   ]
  }
 ],
 "metadata": {
  "kernelspec": {
   "display_name": "Python 3",
   "language": "python",
   "name": "python3"
  },
  "language_info": {
   "codemirror_mode": {
    "name": "ipython",
    "version": 3
   },
   "file_extension": ".py",
   "mimetype": "text/x-python",
   "name": "python",
   "nbconvert_exporter": "python",
   "pygments_lexer": "ipython3",
   "version": "3.8.5"
  }
 },
 "nbformat": 4,
 "nbformat_minor": 4
}
