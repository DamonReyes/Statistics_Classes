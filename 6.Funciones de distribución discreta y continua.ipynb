{
 "cells": [
  {
   "cell_type": "code",
   "execution_count": 4,
   "metadata": {},
   "outputs": [],
   "source": [
    "import scipy.stats\n",
    "import numpy as np\n",
    "import pandas as pd\n",
    "import matplotlib.pyplot as plt\n",
    "import seaborn as sns\n",
    "%matplotlib inline "
   ]
  },
  {
   "cell_type": "code",
   "execution_count": 5,
   "metadata": {},
   "outputs": [],
   "source": [
    "from scipy.stats import binom"
   ]
  },
  {
   "cell_type": "code",
   "execution_count": 6,
   "metadata": {},
   "outputs": [
    {
     "data": {
      "text/plain": [
       "[0.05764801000000002,\n",
       " 0.1976503200000001,\n",
       " 0.2964754800000002,\n",
       " 0.25412184,\n",
       " 0.1361367,\n",
       " 0.04667544000000001,\n",
       " 0.010001879999999989,\n",
       " 0.0012247199999999988,\n",
       " 6.560999999999994e-05]"
      ]
     },
     "execution_count": 6,
     "metadata": {},
     "output_type": "execute_result"
    }
   ],
   "source": [
    "p = 0.3 # es una constante\n",
    "n = 8 # el iterable (for) el rango de resultados\n",
    "\n",
    "x = list(range(0,9,1))\n",
    "y = ([])\n",
    "\n",
    "for i in x:\n",
    "    y.append(binom.pmf(i, p = p, n = n))#PMF(probability mass function)\n",
    "    #parametros calcula i su probabilidad asociada despues, parametro(p), numero de intentos(n)\n",
    "y"
   ]
  },
  {
   "cell_type": "code",
   "execution_count": 7,
   "metadata": {},
   "outputs": [
    {
     "data": {
      "text/plain": [
       "Text(0, 0.5, 'probabilidad discreta')"
      ]
     },
     "execution_count": 7,
     "metadata": {},
     "output_type": "execute_result"
    },
    {
     "data": {
      "image/png": "[encoded data removed]",
      "text/plain": [
       "<Figure size 432x288 with 1 Axes>"
      ]
     },
     "metadata": {
      "needs_background": "light"
     },
     "output_type": "display_data"
    }
   ],
   "source": [
    "fig, ax = plt.subplots()\n",
    "ax.bar(x,y)\n",
    "ax.set_ylabel('probabilidad discreta')"
   ]
  },
  {
   "cell_type": "code",
   "execution_count": 8,
   "metadata": {},
   "outputs": [],
   "source": [
    "#vamos a ver los valores de la media y la varianza de X\n",
    "#de la media se saca el promedio ponderado porque hay que tomar el valor que va a tomar cada uno ponderada por su probabilidad\n",
    "media = np.average(x, weights = y)\n",
    "#la varianza es la suma al cuadrado de los errores\n",
    "varianza = np.average(((x - media)**2), weights = y)\n",
    "# x menos la media(el valor esperado de x) es el calculo de los errores. Elevandolo al cuadrado obtenemos el error de x respecto\n",
    "#a su media pero sin envargo deben estar ponderados por la peobabilidad de ocurrencia de cada valor x y multiplica por weights\n",
    "#los errores de x"
   ]
  },
  {
   "cell_type": "code",
   "execution_count": 9,
   "metadata": {},
   "outputs": [
    {
     "data": {
      "text/plain": [
       "<matplotlib.legend.Legend at 0x20296328b50>"
      ]
     },
     "execution_count": 9,
     "metadata": {},
     "output_type": "execute_result"
    },
    {
     "data": {
      "image/png": "[encoded data removed]",
      "text/plain": [
       "<Figure size 432x288 with 1 Axes>"
      ]
     },
     "metadata": {
      "needs_background": "light"
     },
     "output_type": "display_data"
    }
   ],
   "source": [
    "fig, ax = plt.subplots()\n",
    "ax.bar(x,y)\n",
    "ax.set_ylabel('probabilidad discreta')\n",
    "ax.axvline(x = media, c = 'r', linestyle = '--', label = 'Valor esperado')\n",
    "ax.axvline(x = media + 3 * np.sqrt(varianza), c = 'k', linestyle = '--', label = 'Desviacion estandar')\n",
    "ax.legend()"
   ]
  },
  {
   "cell_type": "code",
   "execution_count": 14,
   "metadata": {},
   "outputs": [
    {
     "data": {
      "text/plain": [
       "Text(0.5, 1.0, 'probabilidad continua')"
      ]
     },
     "execution_count": 14,
     "metadata": {},
     "output_type": "execute_result"
    },
    {
     "data": {
      "image/png": "[encoded data removed]",
      "text/plain": [
       "<Figure size 432x288 with 1 Axes>"
      ]
     },
     "metadata": {
      "needs_background": "light"
     },
     "output_type": "display_data"
    }
   ],
   "source": [
    "N = 1000\n",
    "x = range(0, N+1, 1)\n",
    "y = ([])\n",
    "\n",
    "for i in x:\n",
    "    y.append(binom.cdf(i, p = 0.3, n = N))\n",
    "#definimos funcion de probabilidad acumulada cdf(cumulative density function)\n",
    "fig, ax = plt.subplots()\n",
    "ax.plot(x,y)\n",
    "ax.set_title('probabilidad continua')"
   ]
  },
  {
   "cell_type": "code",
   "execution_count": 16,
   "metadata": {},
   "outputs": [
    {
     "data": {
      "text/plain": [
       "(array(0.), array(1.))"
      ]
     },
     "execution_count": 16,
     "metadata": {},
     "output_type": "execute_result"
    }
   ],
   "source": [
    "from scipy.stats import norm\n",
    "mean, var, skew, kurt = norm.stats(moments = 'mvsk')\n",
    "#norm de distribucion normal y los momentos son los que puse primero\n",
    "mean, var"
   ]
  },
  {
   "cell_type": "code",
   "execution_count": null,
   "metadata": {},
   "outputs": [],
   "source": []
  },
  {
   "cell_type": "code",
   "execution_count": null,
   "metadata": {},
   "outputs": [],
   "source": []
  },
  {
   "cell_type": "code",
   "execution_count": null,
   "metadata": {},
   "outputs": [],
   "source": []
  }
 ],
 "metadata": {
  "kernelspec": {
   "display_name": "Python 3",
   "language": "python",
   "name": "python3"
  },
  "language_info": {
   "codemirror_mode": {
    "name": "ipython",
    "version": 3
   },
   "file_extension": ".py",
   "mimetype": "text/x-python",
   "name": "python",
   "nbconvert_exporter": "python",
   "pygments_lexer": "ipython3",
   "version": "3.8.5"
  }
 },
 "nbformat": 4,
 "nbformat_minor": 4
}
